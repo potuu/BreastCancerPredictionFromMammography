{
  "nbformat": 4,
  "nbformat_minor": 0,
  "metadata": {
    "colab": {
      "provenance": [],
      "authorship_tag": "ABX9TyM4LBK1Mb4foiSGGcAiMOMC",
      "include_colab_link": true
    },
    "kernelspec": {
      "name": "python3",
      "display_name": "Python 3"
    },
    "language_info": {
      "name": "python"
    }
  },
  "cells": [
    {
      "cell_type": "markdown",
      "metadata": {
        "id": "view-in-github",
        "colab_type": "text"
      },
      "source": [
        "<a href=\"https://colab.research.google.com/github/potuu/BreastCancerPredictionFromTissue/blob/main/BreastCancerFromTissue.ipynb\" target=\"_parent\"><img src=\"https://colab.research.google.com/assets/colab-badge.svg\" alt=\"Open In Colab\"/></a>"
      ]
    },
    {
      "cell_type": "code",
      "source": [
        "kaggle datasets download -d farhanmonsur/breast-cancer-split-dataset"
      ],
      "metadata": {
        "id": "YnTTn-j-w7Xs"
      },
      "execution_count": null,
      "outputs": []
    },
    {
      "cell_type": "code",
      "execution_count": 1,
      "metadata": {
        "id": "h-8exktzu3gD"
      },
      "outputs": [],
      "source": [
        "!mkdir -p ~/.kaggle\n",
        "!cp kaggle.json ~/.kaggle"
      ]
    },
    {
      "cell_type": "markdown",
      "source": [],
      "metadata": {
        "id": "W-HDbxXKxk4h"
      }
    },
    {
      "cell_type": "code",
      "source": [
        "!kaggle datasets download -d farhanmonsur/breast-cancer-split-dataset"
      ],
      "metadata": {
        "colab": {
          "base_uri": "https://localhost:8080/"
        },
        "id": "M4dFb3fQxUZC",
        "outputId": "953da186-59d2-471f-dc95-0669860ab7f7"
      },
      "execution_count": 3,
      "outputs": [
        {
          "output_type": "stream",
          "name": "stdout",
          "text": [
            "Warning: Your Kaggle API key is readable by other users on this system! To fix this, you can run 'chmod 600 /root/.kaggle/kaggle.json'\n",
            "Dataset URL: https://www.kaggle.com/datasets/farhanmonsur/breast-cancer-split-dataset\n",
            "License(s): unknown\n",
            "Downloading breast-cancer-split-dataset.zip to /content\n",
            " 99% 1.54G/1.55G [00:22<00:00, 94.1MB/s]\n",
            "100% 1.55G/1.55G [00:22<00:00, 75.3MB/s]\n"
          ]
        }
      ]
    },
    {
      "cell_type": "markdown",
      "source": [],
      "metadata": {
        "id": "AWYyF5z7xjQD"
      }
    },
    {
      "cell_type": "code",
      "source": [
        "import zipfile\n",
        "zip_ref = zipfile.ZipFile('/content/breast-cancer-split-dataset.zip', 'r')\n",
        "zip_ref.extractall('/content')\n",
        "zip_ref.close()"
      ],
      "metadata": {
        "id": "rVNOzJY-xj4K"
      },
      "execution_count": 4,
      "outputs": []
    },
    {
      "cell_type": "markdown",
      "source": [],
      "metadata": {
        "id": "eWBZ8rYOx9hL"
      }
    },
    {
      "cell_type": "code",
      "source": [
        "import os\n",
        "import numpy as np\n",
        "import matplotlib.pyplot as plt\n",
        "from tensorflow.keras.preprocessing.image import ImageDataGenerator\n",
        "from tensorflow.keras.models import Sequential\n",
        "from tensorflow.keras.layers import Conv2D, MaxPooling2D, Flatten, Dense, Dropout\n",
        "from sklearn.metrics import confusion_matrix, classification_report, accuracy_score"
      ],
      "metadata": {
        "id": "lr20KI0ix-OB"
      },
      "execution_count": 10,
      "outputs": []
    },
    {
      "cell_type": "markdown",
      "source": [],
      "metadata": {
        "id": "3zrtDgrsx-94"
      }
    },
    {
      "cell_type": "code",
      "source": [
        "extract_dir='/content/All Data Split'\n",
        "train_dir=os.path.join(extract_dir,'/content/All Data Split/Train')\n",
        "test_dir=os.path.join(extract_dir,'/content/All Data Split/Train')"
      ],
      "metadata": {
        "id": "-4Kid1TZx_Fa"
      },
      "execution_count": 12,
      "outputs": []
    },
    {
      "cell_type": "markdown",
      "source": [],
      "metadata": {
        "id": "ZJPKGgbax_L0"
      }
    },
    {
      "cell_type": "code",
      "source": [
        "train_datagen = ImageDataGenerator(\n",
        "    # rescale=1./255,         # Görüntüyü yeniden ölçeklendirir(daha küçük ölçekli verilerle çalışmak daha etkilidir)\n",
        "    # rotation_range=45,      # Görüntüleri rastgele olarak 0-45 derece aralığında döndürür.(model farklı açılarda görüntülerle karşılaştığında da doğru tahmin yapma yüzdesini artırır)\n",
        "    #width_shift_range=0.2,   # Görüntüyü yatay olarak ½20 orannında rastgele kaydırır.(nesnelerin görüntüde farklı yerlerde bulunmasına karşı dayanıklılığı sağlar)\n",
        "    #height_shift_range=0.2,  # Görüntüyü dikey olarak ½20 oranında rastgele kaydırır.(model, dikey kaymalara karşı dayanıklılık geliştirir)\n",
        "    shear_range=0.2,          # Görüntüyü kayma işlemine tabi tutar, kayma işlemi, görüntünün bir eksen boyunca eğilmesini sağlar.\n",
        "    #zoom_range=0.2,          # Görütüyü rastgele olarak ½20 oranında yakınlaştırır veya uzaklaştırır\n",
        "    horizontal_flip=True,     # Görüntüyü rasgele olarak yatay çevirir. Simetrik görüntülerin tanınma yeteneğini artırır\n",
        "    #fill_mode='nearest'      # Döndürme ya da kaydırma gibi dönüşümler sonucu oluşan boş alanları en yakın piksel renkleri ile doldurur\n",
        ")\n",
        "\n",
        "# Test verilerini yeniden ölçeklendirilmesi\n",
        "test_datagen = ImageDataGenerator(rescale=1./255)"
      ],
      "metadata": {
        "id": "2-Ycxv3gx_Ra"
      },
      "execution_count": 59,
      "outputs": []
    },
    {
      "cell_type": "markdown",
      "source": [
        "eğitim verilerinin yüklenmesi"
      ],
      "metadata": {
        "id": "FV6NLTWVx_W-"
      }
    },
    {
      "cell_type": "code",
      "source": [
        "# yukarıda tanımladığımız train_datagen() nesnesini alıyoruz, ImageDataGenerator'un bir sınıfı olan flow_from_directory() fonksiyonu ile belirli bir önişlemeye tabi tutuyoruz.\n",
        "\n",
        "train_generator = train_datagen.flow_from_directory(\n",
        "    train_dir,\n",
        "    target_size=(64, 64), # 150*150 piksellik olarak yeniden boyutlandırıyoruz\n",
        "    batch_size=128,          # Her seferinde 128'lik gruplar olacak şekilde yüklüyoruz. Ram kullanımında verimlilik sağlar.(Daha iyi model tahmini için boyutu 64 ve 32 olarak azaltabiliriz)\n",
        "    class_mode='binary'     # Sınıflandırmanı iki olduğunu modele belirtiyoruz, sonuç olarak sadece 0 ve 1 durumları vardır. Örnek olarak cevap, ya siyahtır ya da beyazdır.\n",
        ")"
      ],
      "metadata": {
        "colab": {
          "base_uri": "https://localhost:8080/"
        },
        "id": "nbZiw0Wex_jO",
        "outputId": "64c31154-d5b1-44e4-be1a-e80012130c6d"
      },
      "execution_count": 60,
      "outputs": [
        {
          "output_type": "stream",
          "name": "stdout",
          "text": [
            "Found 212421 images belonging to 2 classes.\n"
          ]
        }
      ]
    },
    {
      "cell_type": "markdown",
      "source": [
        "**test verilerinin yüklenmesi**"
      ],
      "metadata": {
        "id": "Bdl_YaWix_pq"
      }
    },
    {
      "cell_type": "code",
      "source": [
        "test_generator=test_datagen.flow_from_directory(\n",
        "    test_dir,\n",
        "    target_size=(64,64),\n",
        "    batch_size=128,\n",
        "    class_mode='binary',\n",
        "    shuffle=False\n",
        ")"
      ],
      "metadata": {
        "colab": {
          "base_uri": "https://localhost:8080/"
        },
        "id": "9pEKp4Jmx_u7",
        "outputId": "40f62e07-86e4-403f-f57f-1865608cce9d"
      },
      "execution_count": 61,
      "outputs": [
        {
          "output_type": "stream",
          "name": "stdout",
          "text": [
            "Found 212421 images belonging to 2 classes.\n"
          ]
        }
      ]
    },
    {
      "cell_type": "markdown",
      "source": [
        "# **CNN modelinin oluşturulması**\n",
        "\n",
        "---\n",
        "Görüntüyü alıp, işleyerek ikili sınıflandırma için bir tahmin yapar. CNN ile görüntüden özellikler çıkarır ve bunları kullanarak ikili sınıflandırma yapar.\n"
      ],
      "metadata": {
        "id": "9fSRmwOGx_2i"
      }
    },
    {
      "cell_type": "code",
      "source": [
        "# Keras\n",
        "model = Sequential([\n",
        "    Conv2D(32, (3, 3), activation='relu', input_shape=(64, 64, 3)),\n",
        "    # 150*150 boyutunda bir veriyi alır, relu ile negatif değerleri sıfırlayıp pozitif değerleri olduğu gibi geçirir(Doğrusal olmayan ilişkiyi sağlar) 32 kernel(filtre) uygular ve (3,3) boyutunda bir veridir.\n",
        "    MaxPooling2D(2, 2),\n",
        "    # Max-pooling, 2*2 alandaki en yüksek değeri seçerek görüntü boyutunu yarıya indirir.(Hesaplama maaliyetini düşürür ve önemli özellikleri korur)\n",
        "    Conv2D(64, (3, 3), activation='relu'),\n",
        "    # İkinci evrişim katmanı, önceki ile aynı mantıkla çalışır ancak 64 filtre kullanarak daha fazla özellik çıkarımı sağlar.\n",
        "    MaxPooling2D(2, 2),\n",
        "    # İkinci max-pooling katmanı, boyutu tekrar yarıya indirir.\n",
        "    Flatten(),\n",
        "    # Çok boyutlu çıktıları tek boyutlu bir vektöre dönüştürür(Böylece veriler, tam bağlantılı katmana(dense layer) beslenebilir)\n",
        "    Dense(64, activation='relu'),\n",
        "    # Tam bağlantılı katman, 64 nöronlu bir katmandır.(Daha iyi tahmin için nöron sayını 128 olarak ayarlayabiliriz) Program 12544 kullanmaya mecbur etti beni(?)\n",
        "    Dropout(0.5),\n",
        "    # Overfitting(aşırı öğrenme) sorununu azaltmak için rasgele olarak nöronları ½50 oranında devre dışı bırakır.\n",
        "    Dense(1, activation='sigmoid')\n",
        "    # Çıkış katmanıdır, yalnızca 1 nörona sahiptir(şu anki beynim gibi) sigmoid aktivasyonu funksiyonunu kullanır.(Sigmoid fonksiyonu, çıktıyı 0 ile 1 arasında bir değere sıkıştırır, bu da ikili sınıflandırma için kullanılır)\n",
        "])"
      ],
      "metadata": {
        "id": "3TsBYefkx_7a"
      },
      "execution_count": 62,
      "outputs": []
    },
    {
      "cell_type": "markdown",
      "source": [
        "**Compile**"
      ],
      "metadata": {
        "id": "6eeboAcmyAJz"
      }
    },
    {
      "cell_type": "code",
      "source": [
        "model.compile(optimizer='adam', loss='binary_crossentropy', metrics=['accuracy'])\n",
        "\n",
        "# Adaptive Moment Estimation algoritması, even I can't understand actually lol\n",
        "# binary_crossentropy modelin tahmin ettiği çıktı ile gerçek çıktı arasındaki farkı ölçer\n",
        "# accuracy ise modelin doğruluğunu ölçer"
      ],
      "metadata": {
        "id": "ol1m0UMLyAPL"
      },
      "execution_count": 63,
      "outputs": []
    },
    {
      "cell_type": "markdown",
      "source": [
        "# **Modelin eğitilmesi** **6 SAAT 17 DAKİKA SÜRDÜ**"
      ],
      "metadata": {
        "id": "MTTnwQAOyAYK"
      }
    },
    {
      "cell_type": "code",
      "source": [
        "# from tensorflow.keras.callbacks import EarlyStopping\n",
        "# early_stopping = EarlyStopping(monitor='val_loss', patience=3)\n",
        "# Modelin doğrulama doğrulu iyileşmediği durumlarda eğitimi durdurma\n",
        "\n",
        "history = model.fit(\n",
        "    train_generator,\n",
        "    #eğitim verilerini sağlayan veri üreteçi olarak kullanılır\n",
        "    steps_per_epoch=train_generator.samples // train_generator.batch_size,\n",
        "    # .samples toplam eğitim örneği sayısını, .batch_size her adımda işlenecek örnek sayısını ifade eder\n",
        "    epochs=5, # epochs=10,\n",
        "    # Tüm eğitim verilerinin üzerinden kaç kez geçileceğini belirliyoruz\n",
        "    validation_data=test_generator,\n",
        "    # Her epoch sonrasında test_generator(doğrulama verilerini sağlayan veri üreteci olarak kullanılır) verilerini kullanarak test edilmesini sağlar\n",
        "    validation_steps=test_generator.samples // test_generator.batch_size\n",
        "    # her epoc sonrasında kaç adım yapılacağını belirler. .samples toplam doğrulama örneği sayısını, .batch_size ise her adımda işlenecek örnek sayısını ifade eder\n",
        ")"
      ],
      "metadata": {
        "colab": {
          "base_uri": "https://localhost:8080/"
        },
        "id": "ud1VZZc2yAbR",
        "outputId": "8b439e1e-e891-484d-c0e4-29d743636185"
      },
      "execution_count": 64,
      "outputs": [
        {
          "output_type": "stream",
          "name": "stdout",
          "text": [
            "Epoch 1/5\n"
          ]
        },
        {
          "output_type": "stream",
          "name": "stderr",
          "text": [
            "/usr/local/lib/python3.10/dist-packages/keras/src/trainers/data_adapters/py_dataset_adapter.py:121: UserWarning: Your `PyDataset` class should call `super().__init__(**kwargs)` in its constructor. `**kwargs` can include `workers`, `use_multiprocessing`, `max_queue_size`. Do not pass these arguments to `fit()`, as they will be ignored.\n",
            "  self._warn_if_super_not_called()\n"
          ]
        },
        {
          "output_type": "stream",
          "name": "stdout",
          "text": [
            "\u001b[1m1659/1659\u001b[0m \u001b[32m━━━━━━━━━━━━━━━━━━━━\u001b[0m\u001b[37m\u001b[0m \u001b[1m2051s\u001b[0m 1s/step - accuracy: 0.7151 - loss: 4.6034 - val_accuracy: 0.7226 - val_loss: 0.6489\n",
            "Epoch 2/5\n",
            "\u001b[1m1659/1659\u001b[0m \u001b[32m━━━━━━━━━━━━━━━━━━━━\u001b[0m\u001b[37m\u001b[0m \u001b[1m1s\u001b[0m 137us/step - accuracy: 0.7266 - loss: 0.4807 - val_accuracy: 0.0000e+00 - val_loss: 0.8133\n",
            "Epoch 3/5\n"
          ]
        },
        {
          "output_type": "stream",
          "name": "stderr",
          "text": [
            "/usr/lib/python3.10/contextlib.py:153: UserWarning: Your input ran out of data; interrupting training. Make sure that your dataset or generator can generate at least `steps_per_epoch * epochs` batches. You may need to use the `.repeat()` function when building your dataset.\n",
            "  self.gen.throw(typ, value, traceback)\n"
          ]
        },
        {
          "output_type": "stream",
          "name": "stdout",
          "text": [
            "\u001b[1m1659/1659\u001b[0m \u001b[32m━━━━━━━━━━━━━━━━━━━━\u001b[0m\u001b[37m\u001b[0m \u001b[1m2013s\u001b[0m 1s/step - accuracy: 0.7234 - loss: 0.5064 - val_accuracy: 0.7226 - val_loss: 0.6578\n",
            "Epoch 4/5\n",
            "\u001b[1m1659/1659\u001b[0m \u001b[32m━━━━━━━━━━━━━━━━━━━━\u001b[0m\u001b[37m\u001b[0m \u001b[1m1s\u001b[0m 79us/step - accuracy: 0.7266 - loss: 0.4257 - val_accuracy: 0.0000e+00 - val_loss: 0.7846\n",
            "Epoch 5/5\n",
            "\u001b[1m1659/1659\u001b[0m \u001b[32m━━━━━━━━━━━━━━━━━━━━\u001b[0m\u001b[37m\u001b[0m \u001b[1m2070s\u001b[0m 1s/step - accuracy: 0.7223 - loss: 0.4790 - val_accuracy: 0.7226 - val_loss: 0.6845\n"
          ]
        }
      ]
    },
    {
      "cell_type": "markdown",
      "source": [
        "**Eğitim ve doğrulama doğruluğu grafiği**"
      ],
      "metadata": {
        "id": "yVx-YPZY06Ur"
      }
    },
    {
      "cell_type": "code",
      "source": [
        "plt.figure(figsize=(12, 8))\n",
        "plt.plot(history.history['accuracy'], label='Eğitim Doğruluğu')\n",
        "plt.plot(history.history['val_accuracy'], label='Doğrulama Doğruluğu')\n",
        "plt.title('Eğitim ve Doğrulama Doğruluğu')\n",
        "plt.legend()\n",
        "plt.show()"
      ],
      "metadata": {
        "colab": {
          "base_uri": "https://localhost:8080/",
          "height": 699
        },
        "id": "9TmGXgTk06cE",
        "outputId": "694c7ac9-79fb-46fd-c4de-13d7764aeed1"
      },
      "execution_count": 65,
      "outputs": [
        {
          "output_type": "display_data",
          "data": {
            "text/plain": [
              "<Figure size 1200x800 with 1 Axes>"
            ],
            "image/png": "[encoded data removed]"
          },
          "metadata": {}
        }
      ]
    },
    {
      "cell_type": "markdown",
      "source": [
        "**Eğitim ve doğrulama kaybı grafiği**"
      ],
      "metadata": {
        "id": "kl-AZca806ij"
      }
    },
    {
      "cell_type": "code",
      "source": [
        "plt.figure(figsize=(12, 8))\n",
        "plt.plot(history.history['loss'], label='Eğitim Kaybı')\n",
        "plt.plot(history.history['val_loss'], label='Doğrulama Kaybı')\n",
        "plt.title('Eğitim ve Doğrulama Kaybı')\n",
        "plt.legend()\n",
        "plt.show()"
      ],
      "metadata": {
        "colab": {
          "base_uri": "https://localhost:8080/",
          "height": 699
        },
        "id": "mqLrzxZI06n7",
        "outputId": "442e154f-78b7-4ba4-c38c-53978f9c146e"
      },
      "execution_count": 66,
      "outputs": [
        {
          "output_type": "display_data",
          "data": {
            "text/plain": [
              "<Figure size 1200x800 with 1 Axes>"
            ],
            "image/png": "[encoded data removed]"
          },
          "metadata": {}
        }
      ]
    },
    {
      "cell_type": "markdown",
      "source": [
        "# **Modelin tahmin yapması ve doğruluğunun hesaplanması**"
      ],
      "metadata": {
        "id": "deUG0lii06ui"
      }
    },
    {
      "cell_type": "code",
      "source": [
        "Y_pred = model.predict(test_generator)\n",
        "# Eğitimde kullanılan test_generator ile model üzerinde tahminler yapar\n",
        "y_pred = np.where(Y_pred > 0.5, 1, 0)\n",
        "# koşul sağlanıyorsa 1, sağlanmıyorsa 0 olarak tanımla, gelen binary değeri predict olarak ata"
      ],
      "metadata": {
        "colab": {
          "base_uri": "https://localhost:8080/"
        },
        "id": "TeqF1KHL060L",
        "outputId": "ded6474a-c5a1-4544-cbb5-f48b5188869a"
      },
      "execution_count": 67,
      "outputs": [
        {
          "output_type": "stream",
          "name": "stdout",
          "text": [
            "\u001b[1m1660/1660\u001b[0m \u001b[32m━━━━━━━━━━━━━━━━━━━━\u001b[0m\u001b[37m\u001b[0m \u001b[1m465s\u001b[0m 280ms/step\n"
          ]
        }
      ]
    },
    {
      "cell_type": "markdown",
      "source": [
        "**Confusion Matrix Report**"
      ],
      "metadata": {
        "id": "8gt6kHYp0650"
      }
    },
    {
      "cell_type": "code",
      "source": [
        "print('Confussion Matrix')\n",
        "print(confusion_matrix(test_generator.classes, y_pred))\n",
        "# Tahmin sonuçlarının gerçek etiketleriyle karşılaştırarak bir confusion matris hesaplayıp, yazdırıyoruz"
      ],
      "metadata": {
        "colab": {
          "base_uri": "https://localhost:8080/"
        },
        "id": "SXBgb4BC06-r",
        "outputId": "e8da5b11-8624-4414-fc07-1eb1a6494036"
      },
      "execution_count": 68,
      "outputs": [
        {
          "output_type": "stream",
          "name": "stdout",
          "text": [
            "Confussion Matrix\n",
            "[[153435      0]\n",
            " [ 58986      0]]\n"
          ]
        }
      ]
    },
    {
      "cell_type": "markdown",
      "source": [
        "**Classification Report**"
      ],
      "metadata": {
        "id": "xRHLl_eP10q0"
      }
    },
    {
      "cell_type": "code",
      "source": [
        "print('Classification Report')\n",
        "target_names = ['Benign', 'Malignant']\n",
        "print(classification_report(test_generator.classes, y_pred, target_names=target_names))\n",
        "# Tahmin performanslarını özetlemek için sınıflandırma raporu üretip çıktısını yazıyoruz"
      ],
      "metadata": {
        "colab": {
          "base_uri": "https://localhost:8080/"
        },
        "id": "GvJB4RW510wP",
        "outputId": "074072c1-fc60-4b26-a161-853115babee7"
      },
      "execution_count": 69,
      "outputs": [
        {
          "output_type": "stream",
          "name": "stdout",
          "text": [
            "Classification Report\n"
          ]
        },
        {
          "output_type": "stream",
          "name": "stderr",
          "text": [
            "/usr/local/lib/python3.10/dist-packages/sklearn/metrics/_classification.py:1471: UndefinedMetricWarning: Precision and F-score are ill-defined and being set to 0.0 in labels with no predicted samples. Use `zero_division` parameter to control this behavior.\n",
            "  _warn_prf(average, modifier, msg_start, len(result))\n"
          ]
        },
        {
          "output_type": "stream",
          "name": "stdout",
          "text": [
            "              precision    recall  f1-score   support\n",
            "\n",
            "      Benign       0.72      1.00      0.84    153435\n",
            "   Malignant       0.00      0.00      0.00     58986\n",
            "\n",
            "    accuracy                           0.72    212421\n",
            "   macro avg       0.36      0.50      0.42    212421\n",
            "weighted avg       0.52      0.72      0.61    212421\n",
            "\n"
          ]
        },
        {
          "output_type": "stream",
          "name": "stderr",
          "text": [
            "/usr/local/lib/python3.10/dist-packages/sklearn/metrics/_classification.py:1471: UndefinedMetricWarning: Precision and F-score are ill-defined and being set to 0.0 in labels with no predicted samples. Use `zero_division` parameter to control this behavior.\n",
            "  _warn_prf(average, modifier, msg_start, len(result))\n",
            "/usr/local/lib/python3.10/dist-packages/sklearn/metrics/_classification.py:1471: UndefinedMetricWarning: Precision and F-score are ill-defined and being set to 0.0 in labels with no predicted samples. Use `zero_division` parameter to control this behavior.\n",
            "  _warn_prf(average, modifier, msg_start, len(result))\n"
          ]
        }
      ]
    },
    {
      "cell_type": "markdown",
      "source": [
        "**Doğruluk oranı (accuracy) hesaplama**"
      ],
      "metadata": {
        "id": "8aSbuISY101R"
      }
    },
    {
      "cell_type": "code",
      "source": [
        "accuracy=accuracy_score(test_generator.classes, y_pred)\n",
        "print(f\"Modelin doğruluk oranı: ½{accuracy *100:.2f}\")\n",
        "# Ne kadar doğru tahminler yaptığımızı anlamamıza imkan sağlar, genel başarıyı değerlendirmek için kullanılır"
      ],
      "metadata": {
        "colab": {
          "base_uri": "https://localhost:8080/"
        },
        "id": "dKL0haqI1056",
        "outputId": "259c91cf-dfe1-4a31-fa45-feed3ecfdc9f"
      },
      "execution_count": 70,
      "outputs": [
        {
          "output_type": "stream",
          "name": "stdout",
          "text": [
            "Modelin doğruluk oranı: ½72.23\n"
          ]
        }
      ]
    },
    {
      "cell_type": "markdown",
      "source": [
        "**görüntülerin bölünmesi ve analiz edilmesi**"
      ],
      "metadata": {
        "id": "rm0YRg3G10_V"
      }
    },
    {
      "cell_type": "code",
      "source": [
        "import random\n",
        "from keras.preprocessing.image import load_img,img_to_array"
      ],
      "metadata": {
        "id": "H17spau011Dj"
      },
      "execution_count": 71,
      "outputs": []
    },
    {
      "cell_type": "markdown",
      "source": [
        "tahmin sırasında görüntülerin bölünmesi ve analiz edilmesi"
      ],
      "metadata": {
        "id": "ldiOj3Zo2aBT"
      }
    },
    {
      "cell_type": "code",
      "source": [
        "img_path=os.path.join(test_dir,'1', random.choice(os.listdir(os.path.join(test_dir,'1'))))\n",
        "# rastgele bir görüntü yolu seç\n",
        "\n",
        "def predict_image_with_augmentation(image_path):\n",
        "    # Görüntüyü ekle ve ön işlemleri yap\n",
        "    img=load_img(image_path,target_size=(150,150))\n",
        "    img=img_to_array(img) / 255.0\n",
        "    img=np.expand_dims(img, axis=0)\n",
        "\n",
        "    # Augmentation işlemleri\n",
        "    img_gen=test_datagen.flow(img,batch_size=1)\n",
        "\n",
        "    for i in range(5):\n",
        "      aug_img=next(img_gen)[0]\n",
        "      plt.imshow(aug_img)\n",
        "      plt.axis('off')\n",
        "      plt.show()\n",
        "\n",
        "      # Tahmin yap\n",
        "      pred=model.predict(np.expand_dims(aug_img,axis=0))\n",
        "      if pred>=0.5:\n",
        "        print(f\"Model Tahmini: Kanserli(Confidence: {pred[0][0]:.2f})\")\n",
        "      else:\n",
        "        print(f\"Model Tahmini: Kansersiz(Confidence: {1-pred[0][0]:.2f})\")\n"
      ],
      "metadata": {
        "id": "jrsGTgl_4t6K"
      },
      "execution_count": 73,
      "outputs": []
    },
    {
      "cell_type": "markdown",
      "source": [],
      "metadata": {
        "id": "w7rus5xK2aNb"
      }
    },
    {
      "cell_type": "code",
      "source": [
        "predict_image_with_augmentation(random_img_path)"
      ],
      "metadata": {
        "colab": {
          "base_uri": "https://localhost:8080/",
          "height": 141
        },
        "id": "RKFLREtD2aSI",
        "outputId": "529bc842-785a-42c3-a969-320427c449e4"
      },
      "execution_count": 74,
      "outputs": [
        {
          "output_type": "error",
          "ename": "NameError",
          "evalue": "name 'random_img_path' is not defined",
          "traceback": [
            "\u001b[0;31m---------------------------------------------------------------------------\u001b[0m",
            "\u001b[0;31mNameError\u001b[0m                                 Traceback (most recent call last)",
            "\u001b[0;32m<ipython-input-74-ddfce0c255dc>\u001b[0m in \u001b[0;36m<cell line: 1>\u001b[0;34m()\u001b[0m\n\u001b[0;32m----> 1\u001b[0;31m \u001b[0mpredict_image_with_augmentation\u001b[0m\u001b[0;34m(\u001b[0m\u001b[0mrandom_img_path\u001b[0m\u001b[0;34m)\u001b[0m\u001b[0;34m\u001b[0m\u001b[0;34m\u001b[0m\u001b[0m\n\u001b[0m",
            "\u001b[0;31mNameError\u001b[0m: name 'random_img_path' is not defined"
          ]
        }
      ]
    },
    {
      "cell_type": "markdown",
      "source": [],
      "metadata": {
        "id": "IoImM8-b2aXR"
      }
    }
  ]
}